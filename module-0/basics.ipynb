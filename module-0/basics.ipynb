{
  "cells": [
    {
      "cell_type": "markdown",
      "id": "660ce795-9307-4c2c-98a1-beabcb36c740",
      "metadata": {
        "id": "660ce795-9307-4c2c-98a1-beabcb36c740"
      },
      "source": [
        "[![Open in Colab](https://colab.research.google.com/assets/colab-badge.svg)](https://colab.research.google.com/github/langchain-ai/langchain-academy/blob/main/module-0/basics.ipynb) [![Open in LangChain Academy](https://cdn.prod.website-files.com/65b8cd72835ceeacd4449a53/66e9eba12c7b7688aa3dbb5e_LCA-badge-green.svg)](https://academy.langchain.com/courses/take/intro-to-langgraph/lessons/56295530-getting-set-up-video-guide)"
      ]
    },
    {
      "cell_type": "markdown",
      "id": "ef597741-3211-4ecc-92f7-f58023ee237e",
      "metadata": {
        "id": "ef597741-3211-4ecc-92f7-f58023ee237e"
      },
      "source": [
        "# LangChain Academy\n",
        "\n",
        "Welcome to LangChain Academy!\n",
        "\n",
        "## Context\n",
        "\n",
        "At LangChain, we aim to make it easy to build LLM applications. One type of LLM application you can build is an agent. There’s a lot of excitement around building agents because they can automate a wide range of tasks that were previously impossible.\n",
        "\n",
        "In practice though, it is incredibly difficult to build systems that reliably execute on these tasks. As we’ve worked with our users to put agents into production, we’ve learned that more control is often necessary. You might need an agent to always call a specific tool first or use different prompts based on its state.\n",
        "\n",
        "To tackle this problem, we’ve built [LangGraph](https://langchain-ai.github.io/langgraph/) — a framework for building agent and multi-agent applications. Separate from the LangChain package, LangGraph’s core design philosophy is to help developers add better precision and control into agent workflows, suitable for the complexity of real-world systems.\n",
        "\n",
        "## Course Structure\n",
        "\n",
        "The course is structured as a set of modules, with each module focused on a particular theme related to LangGraph. You will see a folder for each module, which contains a series of notebooks. A video will accompany each notebook to help walk through the concepts, but the notebooks are also stand-alone, meaning that they contain explanations and can be viewed independently of the videos. Each module folder also contains a `studio` folder, which contains a set of graphs that can be loaded into [LangGraph Studio](https://github.com/langchain-ai/langgraph-studio), our IDE for building LangGraph applications.\n",
        "\n",
        "## Setup\n",
        "\n",
        "Before you begin, please follow the instructions in the `README` to create an environment and install dependencies.\n",
        "\n",
        "## Chat models\n",
        "\n",
        "In this course, we'll be using [Chat Models](https://python.langchain.com/v0.2/docs/concepts/#chat-models), which do a few things take a sequence of messages as inputs and return chat messages as outputs. LangChain does not host any Chat Models, rather we rely on third party integrations. [Here](https://python.langchain.com/v0.2/docs/integrations/chat/) is a list of 3rd party chat model integrations within LangChain! By default, the course will use [ChatOpenAI](https://python.langchain.com/v0.2/docs/integrations/chat/openai/) because it is both popular and performant. As noted, please ensure that you have an `OPENAI_API_KEY`.\n",
        "\n",
        "Let's check that your `OPENAI_API_KEY` is set and, if not, you will be asked to enter it."
      ]
    },
    {
      "cell_type": "code",
      "execution_count": 1,
      "id": "0f9a52c8",
      "metadata": {
        "id": "0f9a52c8"
      },
      "outputs": [],
      "source": [
        "%%capture --no-stderr\n",
        "%pip install --quiet -U langchain_cohere langchain_core langchain_community tavily-python"
      ]
    },
    {
      "cell_type": "code",
      "execution_count": 2,
      "id": "c2a15227",
      "metadata": {
        "colab": {
          "base_uri": "https://localhost:8080/"
        },
        "id": "c2a15227",
        "outputId": "17b75377-584a-402c-e3e7-3498ef33be89"
      },
      "outputs": [
        {
          "name": "stdout",
          "output_type": "stream",
          "text": [
            "COHERE_API_KEY: ··········\n"
          ]
        }
      ],
      "source": [
        "import os, getpass\n",
        "\n",
        "def _set_env(var: str):\n",
        "    if not os.environ.get(var):\n",
        "        os.environ[var] = getpass.getpass(f\"{var}: \")\n",
        "\n",
        "_set_env(\"COHERE_API_KEY\")"
      ]
    },
    {
      "cell_type": "markdown",
      "id": "a326f35b",
      "metadata": {
        "id": "a326f35b"
      },
      "source": [
        "[Here](https://python.langchain.com/v0.2/docs/how_to/#chat-models) is a useful how-to for all the things that you can do with chat models, but we'll show a few highlights below. If you've run `pip install -r requirements.txt` as noted in the README, then you've installed the `langchain-openai` package. With this, we can instantiate our `ChatOpenAI` model object. If you are signing up for the API for the first time, you should receive [free credits](https://community.openai.com/t/understanding-api-limits-and-free-tier/498517) that can be applied to any of the models. You can see pricing for various models [here](https://openai.com/api/pricing/). The notebooks will default to `gpt-4o` because it's a good balance of quality, price, and speed [see more here](https://help.openai.com/en/articles/7102672-how-can-i-access-gpt-4-gpt-4-turbo-gpt-4o-and-gpt-4o-mini), but you can also opt for the lower priced `gpt-3.5` series models.\n",
        "\n",
        "There are [a few standard parameters](https://python.langchain.com/v0.2/docs/concepts/#chat-models) that we can set with chat models. Two of the most common are:\n",
        "\n",
        "* `model`: the name of the model\n",
        "* `temperature`: the sampling temperature\n",
        "\n",
        "`Temperature` controls the randomness or creativity of the model's output where low temperature (close to 0) is more deterministic and focused outputs. This is good for tasks requiring accuracy or factual responses. High temperature (close to 1) is good for creative tasks or generating varied responses."
      ]
    },
    {
      "cell_type": "code",
      "execution_count": 3,
      "id": "e19a54d3",
      "metadata": {
        "id": "e19a54d3"
      },
      "outputs": [],
      "source": [
        "from langchain_cohere import ChatCohere\n",
        "commandrplus_chat = ChatCohere(model=\"command-r-plus\", temperature=0)\n",
        "commandr_chat = ChatCohere(model=\"command-r\", temperature=0)"
      ]
    },
    {
      "cell_type": "markdown",
      "id": "28450d1b",
      "metadata": {
        "id": "28450d1b"
      },
      "source": [
        "Chat models in LangChain have a number of [default methods](https://python.langchain.com/v0.2/docs/concepts/#runnable-interface). For the most part, we'll be using:\n",
        "\n",
        "* `stream`: stream back chunks of the response\n",
        "* `invoke`: call the chain on an input\n",
        "\n",
        "And, as mentioned, chat models take [messages](https://python.langchain.com/v0.2/docs/concepts/#messages) as input. Messages have a role (that describes who is saying the message) and a content property. We'll be talking a lot more about this later, but here let's just show the basics."
      ]
    },
    {
      "cell_type": "code",
      "execution_count": 4,
      "id": "b1280e1b",
      "metadata": {
        "colab": {
          "base_uri": "https://localhost:8080/"
        },
        "id": "b1280e1b",
        "outputId": "5b404b6d-9dde-40b3-834e-5a7b6952594c"
      },
      "outputs": [
        {
          "output_type": "execute_result",
          "data": {
            "text/plain": [
              "AIMessage(content='Hello! How can I help you today?', additional_kwargs={'id': 'bc063a71-01d1-4232-8037-2d280d5abe17', 'finish_reason': 'COMPLETE', 'content': 'Hello! How can I help you today?', 'token_count': {'input_tokens': 68.0, 'output_tokens': 9.0}}, response_metadata={'id': 'bc063a71-01d1-4232-8037-2d280d5abe17', 'finish_reason': 'COMPLETE', 'content': 'Hello! How can I help you today?', 'token_count': {'input_tokens': 68.0, 'output_tokens': 9.0}}, id='run--6c754c25-1daa-4315-af89-d31a4ed75c5a-0', usage_metadata={'input_tokens': 68, 'output_tokens': 9, 'total_tokens': 77})"
            ]
          },
          "metadata": {},
          "execution_count": 4
        }
      ],
      "source": [
        "from langchain_core.messages import HumanMessage\n",
        "\n",
        "# Create a message\n",
        "msg = HumanMessage(content=\"Hello world\", name=\"Lance\")\n",
        "\n",
        "# Message list\n",
        "messages = [msg]\n",
        "\n",
        "# Invoke the model with a list of messages\n",
        "commandrplus_chat.invoke(messages)"
      ]
    },
    {
      "cell_type": "markdown",
      "id": "cac73e4c",
      "metadata": {
        "id": "cac73e4c"
      },
      "source": [
        "We get an `AIMessage` response. Also, note that we can just invoke a chat model with a string. When a string is passed in as input, it is converted to a `HumanMessage` and then passed to the underlying model.\n"
      ]
    },
    {
      "cell_type": "code",
      "execution_count": 5,
      "id": "f27c6c9a",
      "metadata": {
        "colab": {
          "base_uri": "https://localhost:8080/"
        },
        "id": "f27c6c9a",
        "outputId": "85297888-a75c-4e7a-b5c4-aa2bff2511ab"
      },
      "outputs": [
        {
          "output_type": "execute_result",
          "data": {
            "text/plain": [
              "AIMessage(content='Hello! How can I help you today?', additional_kwargs={'id': '9c560637-a69a-4f11-8f0b-7730d172e42f', 'finish_reason': 'COMPLETE', 'content': 'Hello! How can I help you today?', 'token_count': {'input_tokens': 68.0, 'output_tokens': 9.0}}, response_metadata={'id': '9c560637-a69a-4f11-8f0b-7730d172e42f', 'finish_reason': 'COMPLETE', 'content': 'Hello! How can I help you today?', 'token_count': {'input_tokens': 68.0, 'output_tokens': 9.0}}, id='run--c8121d55-c8bd-4365-8aab-c6e76c76598b-0', usage_metadata={'input_tokens': 68, 'output_tokens': 9, 'total_tokens': 77})"
            ]
          },
          "metadata": {},
          "execution_count": 5
        }
      ],
      "source": [
        "commandrplus_chat.invoke(\"hello world\")"
      ]
    },
    {
      "cell_type": "code",
      "execution_count": 6,
      "id": "fdc2f0ca",
      "metadata": {
        "colab": {
          "base_uri": "https://localhost:8080/"
        },
        "id": "fdc2f0ca",
        "outputId": "8a488c91-0ac3-41d9-b6d3-87fd0cadd3ad"
      },
      "outputs": [
        {
          "output_type": "execute_result",
          "data": {
            "text/plain": [
              "AIMessage(content=\"Hello! How's it going? I hope you're having a fantastic day today! Is there anything I can help you with?\", additional_kwargs={'id': 'ebf10820-06c4-4d3a-a182-ab609a139198', 'finish_reason': 'COMPLETE', 'content': \"Hello! How's it going? I hope you're having a fantastic day today! Is there anything I can help you with?\", 'token_count': {'input_tokens': 68.0, 'output_tokens': 26.0}}, response_metadata={'id': 'ebf10820-06c4-4d3a-a182-ab609a139198', 'finish_reason': 'COMPLETE', 'content': \"Hello! How's it going? I hope you're having a fantastic day today! Is there anything I can help you with?\", 'token_count': {'input_tokens': 68.0, 'output_tokens': 26.0}}, id='run--b1d65dee-9fba-489f-b71d-a5b3b5ffaa2c-0', usage_metadata={'input_tokens': 68, 'output_tokens': 26, 'total_tokens': 94})"
            ]
          },
          "metadata": {},
          "execution_count": 6
        }
      ],
      "source": [
        "commandr_chat.invoke(\"hello world\")"
      ]
    },
    {
      "cell_type": "markdown",
      "id": "582c0e5a",
      "metadata": {
        "id": "582c0e5a"
      },
      "source": [
        "The interface is consistent across all chat models and models are typically initialized once at the start up each notebooks.\n",
        "\n",
        "So, you can easily switch between models without changing the downstream code if you have strong preference for another provider.\n"
      ]
    },
    {
      "cell_type": "markdown",
      "id": "3ad0069a",
      "metadata": {
        "id": "3ad0069a"
      },
      "source": [
        "## Search Tools\n",
        "\n",
        "You'll also see [Tavily](https://tavily.com/) in the README, which is a search engine optimized for LLMs and RAG, aimed at efficient, quick, and persistent search results. As mentioned, it's easy to sign up and offers a generous free tier. Some lessons (in Module 4) will use Tavily by default but, of course, other search tools can be used if you want to modify the code for yourself."
      ]
    },
    {
      "cell_type": "code",
      "execution_count": 7,
      "id": "091dff13",
      "metadata": {
        "colab": {
          "base_uri": "https://localhost:8080/"
        },
        "id": "091dff13",
        "outputId": "dd41b877-b4f1-44d7-c121-40d87f86b04e"
      },
      "outputs": [
        {
          "name": "stdout",
          "output_type": "stream",
          "text": [
            "TAVILY_API_KEY: ··········\n"
          ]
        }
      ],
      "source": [
        "_set_env(\"TAVILY_API_KEY\")"
      ]
    },
    {
      "cell_type": "code",
      "execution_count": 8,
      "id": "52d69da9",
      "metadata": {
        "id": "52d69da9"
      },
      "outputs": [],
      "source": [
        "from langchain_community.tools.tavily_search import TavilySearchResults\n",
        "tavily_search = TavilySearchResults(max_results=3)\n",
        "search_docs = tavily_search.invoke(\"What is LangGraph?\")"
      ]
    },
    {
      "cell_type": "code",
      "execution_count": 9,
      "id": "d06f87e6",
      "metadata": {
        "colab": {
          "base_uri": "https://localhost:8080/"
        },
        "id": "d06f87e6",
        "outputId": "f4c1137d-62f9-498a-ce76-3da0445200af"
      },
      "outputs": [
        {
          "output_type": "execute_result",
          "data": {
            "text/plain": [
              "[{'title': 'LangGraph: The Future of Advanced Multi-Agent Workflows - Medium',\n",
              "  'url': 'https://medium.com/@piyushkashyap045/langgraph-the-future-of-advanced-multi-agent-workflows-2449df6fdf3a',\n",
              "  'content': '1. What is LangGraph?\\nLangGraph is a framework built on top of LangChain that allows developers to create complex workflows using graph-based models. A graph in this context consists of nodes (representing functions or tools) and edges (representing connections between those nodes). This structure enables LangGraph to handle complex AI-driven applications with ease.\\nKey Definition:\\n\\nLangGraph: A framework within LangChain for creating workflows using Directed Cyclic Graphs (DCGs). [...] In\\nDev Genius\\nby\\nNeural pAi\\n🚀 The Ultimate Guide to LangGraph: All Aspects Explained --------------------------------------------------------- ### LangGraph is an innovative framework designed to create, manage, and execute graph-based workflows powered by large language models (LLMs)…\\nFeb 23\\n45 [...] 3. Key Features of LangGraph\\nLangGraph is packed with features designed to streamline your AI development process:',\n",
              "  'score': 0.96306777},\n",
              " {'title': 'What Is LangGraph and How to Use It? - DataCamp',\n",
              "  'url': 'https://www.datacamp.com/tutorial/langgraph-tutorial',\n",
              "  'content': 'LangGraph is a library within the LangChain ecosystem designed to tackle these challenges head-on. LangGraph provides a framework for defining, coordinating, and executing multiple LLM agents (or chains) in a structured manner.\\nIt simplifies the development process by enabling the creation of cyclical graphs, which are essential for developing agent runtimes. With LangGraph, we can easily build robust, scalable, and flexible multi-agent systems. [...] Home\\nTutorials\\nArtificial Intelligence\\n\\nLangGraph Tutorial: What Is LangGraph and How to Use It?\\nLangGraph is a library within the LangChain ecosystem that provides a framework for defining, coordinating, and executing multiple LLM agents (or chains) in a structured and efficient manner.\\nContents\\nJun 26, 2024 \\xa0· 12 min read\\nContents\\n\\nWhat Is LangGraph?\\nGraph structure\\nState management\\n\\nCoordination\\n\\n\\nWhy LangGraph?\\n\\nSimplified development\\nFlexibility\\nScalability\\n\\nFault tolerance [...] If you want to learn more about the LangChain ecosystem, I recommend this introduction to LangChain.\\nWhat Is LangGraph?\\nLangGraph enables us to create stateful, multi-actor applications utilizing LLMs as easily as possible. It extends the capabilities of LangChain, introducing the ability to create and manage cyclical graphs, which are pivotal for developing sophisticated agent runtimes. The core concepts of LangGraph include: graph structure, state management, and coordination.\\nGraph structure',\n",
              "  'score': 0.93844646},\n",
              " {'title': \"Introduction to LangGraph: A Beginner's Guide - Medium\",\n",
              "  'url': 'https://medium.com/@cplog/introduction-to-langgraph-a-beginners-guide-14f9be027141',\n",
              "  'content': 'LangGraph is a powerful tool for building stateful, multi-actor applications with Large Language Models (LLMs). It extends the LangChain library, allowing you to coordinate multiple chains (or actors) across multiple steps of computation in a cyclic manner. In this article, we’ll introduce LangGraph, walk you through its basic concepts, and share some insights and common points of confusion for beginners.\\nWhat is LangGraph? [...] LangGraph is a library built on top of LangChain, designed to add cyclic computational capabilities to your LLM applications. While LangChain allows you to define chains of computation (Directed Acyclic Graphs or DAGs), LangGraph introduces the ability to add cycles, enabling more complex, agent-like behaviors where you can call an LLM in a loop, asking it what action to take next.\\nKey Concepts [...] Conclusion\\nLangGraph is a versatile tool for building complex, stateful applications with LLMs. By understanding its core concepts and working through simple examples, beginners can start to leverage its power for their projects. Remember to pay attention to state management, conditional edges, and ensuring there are no dead-end nodes in your graph. Happy coding!',\n",
              "  'score': 0.93468803}]"
            ]
          },
          "metadata": {},
          "execution_count": 9
        }
      ],
      "source": [
        "search_docs"
      ]
    },
    {
      "cell_type": "code",
      "execution_count": null,
      "id": "bafd7d5d",
      "metadata": {
        "id": "bafd7d5d"
      },
      "outputs": [],
      "source": []
    }
  ],
  "metadata": {
    "kernelspec": {
      "display_name": "Python 3 (ipykernel)",
      "language": "python",
      "name": "python3"
    },
    "language_info": {
      "codemirror_mode": {
        "name": "ipython",
        "version": 3
      },
      "file_extension": ".py",
      "mimetype": "text/x-python",
      "name": "python",
      "nbconvert_exporter": "python",
      "pygments_lexer": "ipython3",
      "version": "3.12.1"
    },
    "colab": {
      "provenance": []
    }
  },
  "nbformat": 4,
  "nbformat_minor": 5
}